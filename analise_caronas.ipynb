{
  "cells": [
    {
      "cell_type": "markdown",
      "source": [
        "Entender as preferências dos passageiros e o impacto de fatores externos nas corridas."
      ],
      "metadata": {
        "id": "-ERH1NxrFe6q"
      }
    },
    {
      "cell_type": "code",
      "execution_count": null,
      "metadata": {
        "id": "-qElWLhCEQke"
      },
      "outputs": [],
      "source": [
        "# Importando bibliotecas\n",
        "import pandas as pd\n",
        "import numpy as np\n",
        "import seaborn as sns\n",
        "import matplotlib.pyplot as plt\n",
        "from scipy import stats as st"
      ]
    },
    {
      "cell_type": "code",
      "execution_count": null,
      "metadata": {
        "id": "wcY1Dn2oEQke"
      },
      "outputs": [],
      "source": [
        "# Carregando os arquivos\n",
        "corridas = pd.read_csv('/datasets/project_sql_result_01.csv')\n",
        "bairros = pd.read_csv('/datasets/project_sql_result_04.csv')\n"
      ]
    },
    {
      "cell_type": "markdown",
      "metadata": {
        "id": "r26L0aMQEQke"
      },
      "source": [
        "# Tabela Corridas"
      ]
    },
    {
      "cell_type": "code",
      "execution_count": null,
      "metadata": {
        "id": "oHTqZwr9EQkf",
        "outputId": "cef27ce1-b266-409c-ed72-ef6595c48053"
      },
      "outputs": [
        {
          "data": {
            "text/html": [
              "<div>\n",
              "<style scoped>\n",
              "    .dataframe tbody tr th:only-of-type {\n",
              "        vertical-align: middle;\n",
              "    }\n",
              "\n",
              "    .dataframe tbody tr th {\n",
              "        vertical-align: top;\n",
              "    }\n",
              "\n",
              "    .dataframe thead th {\n",
              "        text-align: right;\n",
              "    }\n",
              "</style>\n",
              "<table border=\"1\" class=\"dataframe\">\n",
              "  <thead>\n",
              "    <tr style=\"text-align: right;\">\n",
              "      <th></th>\n",
              "      <th>company_name</th>\n",
              "      <th>trips_amount</th>\n",
              "    </tr>\n",
              "  </thead>\n",
              "  <tbody>\n",
              "    <tr>\n",
              "      <th>0</th>\n",
              "      <td>Flash Cab</td>\n",
              "      <td>19558</td>\n",
              "    </tr>\n",
              "    <tr>\n",
              "      <th>1</th>\n",
              "      <td>Taxi Affiliation Services</td>\n",
              "      <td>11422</td>\n",
              "    </tr>\n",
              "    <tr>\n",
              "      <th>2</th>\n",
              "      <td>Medallion Leasing</td>\n",
              "      <td>10367</td>\n",
              "    </tr>\n",
              "    <tr>\n",
              "      <th>3</th>\n",
              "      <td>Yellow Cab</td>\n",
              "      <td>9888</td>\n",
              "    </tr>\n",
              "    <tr>\n",
              "      <th>4</th>\n",
              "      <td>Taxi Affiliation Service Yellow</td>\n",
              "      <td>9299</td>\n",
              "    </tr>\n",
              "    <tr>\n",
              "      <th>...</th>\n",
              "      <td>...</td>\n",
              "      <td>...</td>\n",
              "    </tr>\n",
              "    <tr>\n",
              "      <th>59</th>\n",
              "      <td>4053 - 40193 Adwar H. Nikola</td>\n",
              "      <td>7</td>\n",
              "    </tr>\n",
              "    <tr>\n",
              "      <th>60</th>\n",
              "      <td>2733 - 74600 Benny Jona</td>\n",
              "      <td>7</td>\n",
              "    </tr>\n",
              "    <tr>\n",
              "      <th>61</th>\n",
              "      <td>5874 - 73628 Sergey Cab Corp.</td>\n",
              "      <td>5</td>\n",
              "    </tr>\n",
              "    <tr>\n",
              "      <th>62</th>\n",
              "      <td>2241 - 44667 - Felman Corp</td>\n",
              "      <td>3</td>\n",
              "    </tr>\n",
              "    <tr>\n",
              "      <th>63</th>\n",
              "      <td>3556 - 36214 RC Andrews Cab</td>\n",
              "      <td>2</td>\n",
              "    </tr>\n",
              "  </tbody>\n",
              "</table>\n",
              "<p>64 rows × 2 columns</p>\n",
              "</div>"
            ],
            "text/plain": [
              "                       company_name  trips_amount\n",
              "0                         Flash Cab         19558\n",
              "1         Taxi Affiliation Services         11422\n",
              "2                 Medallion Leasing         10367\n",
              "3                        Yellow Cab          9888\n",
              "4   Taxi Affiliation Service Yellow          9299\n",
              "..                              ...           ...\n",
              "59     4053 - 40193 Adwar H. Nikola             7\n",
              "60          2733 - 74600 Benny Jona             7\n",
              "61    5874 - 73628 Sergey Cab Corp.             5\n",
              "62       2241 - 44667 - Felman Corp             3\n",
              "63      3556 - 36214 RC Andrews Cab             2\n",
              "\n",
              "[64 rows x 2 columns]"
            ]
          },
          "execution_count": 3,
          "metadata": {},
          "output_type": "execute_result"
        }
      ],
      "source": [
        "# Tabela Corridas\n",
        "corridas"
      ]
    },
    {
      "cell_type": "code",
      "execution_count": null,
      "metadata": {
        "id": "PryJwCPhEQkf",
        "outputId": "41ad50a4-e8d1-48d5-a6d7-977d54919c4e"
      },
      "outputs": [
        {
          "name": "stdout",
          "output_type": "stream",
          "text": [
            "<class 'pandas.core.frame.DataFrame'>\n",
            "RangeIndex: 64 entries, 0 to 63\n",
            "Data columns (total 2 columns):\n",
            " #   Column        Non-Null Count  Dtype \n",
            "---  ------        --------------  ----- \n",
            " 0   company_name  64 non-null     object\n",
            " 1   trips_amount  64 non-null     int64 \n",
            "dtypes: int64(1), object(1)\n",
            "memory usage: 1.1+ KB\n"
          ]
        }
      ],
      "source": [
        "corridas.info()"
      ]
    },
    {
      "cell_type": "code",
      "execution_count": null,
      "metadata": {
        "id": "3m9GjGFpEQkg",
        "outputId": "3f1b500b-a7c8-4aed-c3c8-54090bd31848"
      },
      "outputs": [
        {
          "data": {
            "text/html": [
              "<div>\n",
              "<style scoped>\n",
              "    .dataframe tbody tr th:only-of-type {\n",
              "        vertical-align: middle;\n",
              "    }\n",
              "\n",
              "    .dataframe tbody tr th {\n",
              "        vertical-align: top;\n",
              "    }\n",
              "\n",
              "    .dataframe thead th {\n",
              "        text-align: right;\n",
              "    }\n",
              "</style>\n",
              "<table border=\"1\" class=\"dataframe\">\n",
              "  <thead>\n",
              "    <tr style=\"text-align: right;\">\n",
              "      <th></th>\n",
              "      <th>trips_amount</th>\n",
              "    </tr>\n",
              "  </thead>\n",
              "  <tbody>\n",
              "    <tr>\n",
              "      <th>count</th>\n",
              "      <td>64.000000</td>\n",
              "    </tr>\n",
              "    <tr>\n",
              "      <th>mean</th>\n",
              "      <td>2145.484375</td>\n",
              "    </tr>\n",
              "    <tr>\n",
              "      <th>std</th>\n",
              "      <td>3812.310186</td>\n",
              "    </tr>\n",
              "    <tr>\n",
              "      <th>min</th>\n",
              "      <td>2.000000</td>\n",
              "    </tr>\n",
              "    <tr>\n",
              "      <th>25%</th>\n",
              "      <td>20.750000</td>\n",
              "    </tr>\n",
              "    <tr>\n",
              "      <th>50%</th>\n",
              "      <td>178.500000</td>\n",
              "    </tr>\n",
              "    <tr>\n",
              "      <th>75%</th>\n",
              "      <td>2106.500000</td>\n",
              "    </tr>\n",
              "    <tr>\n",
              "      <th>max</th>\n",
              "      <td>19558.000000</td>\n",
              "    </tr>\n",
              "  </tbody>\n",
              "</table>\n",
              "</div>"
            ],
            "text/plain": [
              "       trips_amount\n",
              "count     64.000000\n",
              "mean    2145.484375\n",
              "std     3812.310186\n",
              "min        2.000000\n",
              "25%       20.750000\n",
              "50%      178.500000\n",
              "75%     2106.500000\n",
              "max    19558.000000"
            ]
          },
          "execution_count": 5,
          "metadata": {},
          "output_type": "execute_result"
        }
      ],
      "source": [
        "corridas.describe()"
      ]
    },
    {
      "cell_type": "code",
      "execution_count": null,
      "metadata": {
        "id": "xeUHQ9owEQkg",
        "outputId": "9deee922-786a-4e0b-d212-a7f60136a340"
      },
      "outputs": [
        {
          "data": {
            "text/plain": [
              "company_name    0\n",
              "trips_amount    0\n",
              "dtype: int64"
            ]
          },
          "execution_count": 6,
          "metadata": {},
          "output_type": "execute_result"
        }
      ],
      "source": [
        "# Verificando dados Faltantes\n",
        "corridas.isna().sum()"
      ]
    },
    {
      "cell_type": "code",
      "execution_count": null,
      "metadata": {
        "id": "Z65L9EvXEQkg",
        "outputId": "858370ef-c5ae-4f1a-e38e-87bc1c90ab1f"
      },
      "outputs": [
        {
          "data": {
            "text/html": [
              "<div>\n",
              "<style scoped>\n",
              "    .dataframe tbody tr th:only-of-type {\n",
              "        vertical-align: middle;\n",
              "    }\n",
              "\n",
              "    .dataframe tbody tr th {\n",
              "        vertical-align: top;\n",
              "    }\n",
              "\n",
              "    .dataframe thead th {\n",
              "        text-align: right;\n",
              "    }\n",
              "</style>\n",
              "<table border=\"1\" class=\"dataframe\">\n",
              "  <thead>\n",
              "    <tr style=\"text-align: right;\">\n",
              "      <th></th>\n",
              "      <th>company_name</th>\n",
              "      <th>trips_amount</th>\n",
              "    </tr>\n",
              "  </thead>\n",
              "  <tbody>\n",
              "    <tr>\n",
              "      <th>0</th>\n",
              "      <td>Flash Cab</td>\n",
              "      <td>19558</td>\n",
              "    </tr>\n",
              "    <tr>\n",
              "      <th>1</th>\n",
              "      <td>Taxi Affiliation Services</td>\n",
              "      <td>11422</td>\n",
              "    </tr>\n",
              "    <tr>\n",
              "      <th>2</th>\n",
              "      <td>Medallion Leasing</td>\n",
              "      <td>10367</td>\n",
              "    </tr>\n",
              "    <tr>\n",
              "      <th>3</th>\n",
              "      <td>Yellow Cab</td>\n",
              "      <td>9888</td>\n",
              "    </tr>\n",
              "    <tr>\n",
              "      <th>4</th>\n",
              "      <td>Taxi Affiliation Service Yellow</td>\n",
              "      <td>9299</td>\n",
              "    </tr>\n",
              "    <tr>\n",
              "      <th>...</th>\n",
              "      <td>...</td>\n",
              "      <td>...</td>\n",
              "    </tr>\n",
              "    <tr>\n",
              "      <th>59</th>\n",
              "      <td>4053 - 40193 Adwar H. Nikola</td>\n",
              "      <td>7</td>\n",
              "    </tr>\n",
              "    <tr>\n",
              "      <th>60</th>\n",
              "      <td>2733 - 74600 Benny Jona</td>\n",
              "      <td>7</td>\n",
              "    </tr>\n",
              "    <tr>\n",
              "      <th>61</th>\n",
              "      <td>5874 - 73628 Sergey Cab Corp.</td>\n",
              "      <td>5</td>\n",
              "    </tr>\n",
              "    <tr>\n",
              "      <th>62</th>\n",
              "      <td>2241 - 44667 - Felman Corp</td>\n",
              "      <td>3</td>\n",
              "    </tr>\n",
              "    <tr>\n",
              "      <th>63</th>\n",
              "      <td>3556 - 36214 RC Andrews Cab</td>\n",
              "      <td>2</td>\n",
              "    </tr>\n",
              "  </tbody>\n",
              "</table>\n",
              "<p>64 rows × 2 columns</p>\n",
              "</div>"
            ],
            "text/plain": [
              "                       company_name  trips_amount\n",
              "0                         Flash Cab         19558\n",
              "1         Taxi Affiliation Services         11422\n",
              "2                 Medallion Leasing         10367\n",
              "3                        Yellow Cab          9888\n",
              "4   Taxi Affiliation Service Yellow          9299\n",
              "..                              ...           ...\n",
              "59     4053 - 40193 Adwar H. Nikola             7\n",
              "60          2733 - 74600 Benny Jona             7\n",
              "61    5874 - 73628 Sergey Cab Corp.             5\n",
              "62       2241 - 44667 - Felman Corp             3\n",
              "63      3556 - 36214 RC Andrews Cab             2\n",
              "\n",
              "[64 rows x 2 columns]"
            ]
          },
          "execution_count": 7,
          "metadata": {},
          "output_type": "execute_result"
        }
      ],
      "source": [
        "corridas.duplicated()"
      ]
    },
    {
      "cell_type": "markdown",
      "metadata": {
        "id": "DtV58FQUEQkg"
      },
      "source": [
        "* DF sem dados faltante ou duplicados"
      ]
    },
    {
      "cell_type": "code",
      "execution_count": null,
      "metadata": {
        "id": "zCZoMt0VEQkg",
        "outputId": "17684e97-7f2f-4f41-add3-28c4f4b807f8"
      },
      "outputs": [
        {
          "data": {
            "text/plain": [
              "<AxesSubplot:xlabel='trips_amount', ylabel='company_name'>"
            ]
          },
          "execution_count": 8,
          "metadata": {},
          "output_type": "execute_result"
        },
        {
          "data": {
            "image/png": "[encoded data removed]",
            "text/plain": [
              "<Figure size 864x864 with 1 Axes>"
            ]
          },
          "metadata": {
            "needs_background": "light"
          },
          "output_type": "display_data"
        }
      ],
      "source": [
        "# Plotando gráfico de quantidade de corridas por companhia de taxi\n",
        "f, ax = plt.subplots(figsize=(12, 12), sharex=True)\n",
        "sns.barplot(data=corridas, x='trips_amount',y='company_name', orient = 'h', ax = ax)"
      ]
    },
    {
      "cell_type": "markdown",
      "metadata": {
        "id": "yKWJtv4fEQkh"
      },
      "source": [
        "* É possível perceber que a compania Flash Cab é a que possui maior quantidade de corridas, seguida pela Taxi Affiliation Services e Medallion Leasing."
      ]
    },
    {
      "cell_type": "markdown",
      "metadata": {
        "id": "aoAHZmPmEQkh"
      },
      "source": [
        "# Tabela bairros"
      ]
    },
    {
      "cell_type": "code",
      "execution_count": null,
      "metadata": {
        "id": "9PDZMqTtEQkh",
        "outputId": "0392d6ae-dba8-4122-c64b-50043f08e0f2"
      },
      "outputs": [
        {
          "data": {
            "text/html": [
              "<div>\n",
              "<style scoped>\n",
              "    .dataframe tbody tr th:only-of-type {\n",
              "        vertical-align: middle;\n",
              "    }\n",
              "\n",
              "    .dataframe tbody tr th {\n",
              "        vertical-align: top;\n",
              "    }\n",
              "\n",
              "    .dataframe thead th {\n",
              "        text-align: right;\n",
              "    }\n",
              "</style>\n",
              "<table border=\"1\" class=\"dataframe\">\n",
              "  <thead>\n",
              "    <tr style=\"text-align: right;\">\n",
              "      <th></th>\n",
              "      <th>dropoff_location_name</th>\n",
              "      <th>average_trips</th>\n",
              "    </tr>\n",
              "  </thead>\n",
              "  <tbody>\n",
              "    <tr>\n",
              "      <th>0</th>\n",
              "      <td>Loop</td>\n",
              "      <td>10727.466667</td>\n",
              "    </tr>\n",
              "    <tr>\n",
              "      <th>1</th>\n",
              "      <td>River North</td>\n",
              "      <td>9523.666667</td>\n",
              "    </tr>\n",
              "    <tr>\n",
              "      <th>2</th>\n",
              "      <td>Streeterville</td>\n",
              "      <td>6664.666667</td>\n",
              "    </tr>\n",
              "    <tr>\n",
              "      <th>3</th>\n",
              "      <td>West Loop</td>\n",
              "      <td>5163.666667</td>\n",
              "    </tr>\n",
              "    <tr>\n",
              "      <th>4</th>\n",
              "      <td>O'Hare</td>\n",
              "      <td>2546.900000</td>\n",
              "    </tr>\n",
              "    <tr>\n",
              "      <th>...</th>\n",
              "      <td>...</td>\n",
              "      <td>...</td>\n",
              "    </tr>\n",
              "    <tr>\n",
              "      <th>89</th>\n",
              "      <td>Mount Greenwood</td>\n",
              "      <td>3.137931</td>\n",
              "    </tr>\n",
              "    <tr>\n",
              "      <th>90</th>\n",
              "      <td>Hegewisch</td>\n",
              "      <td>3.117647</td>\n",
              "    </tr>\n",
              "    <tr>\n",
              "      <th>91</th>\n",
              "      <td>Burnside</td>\n",
              "      <td>2.333333</td>\n",
              "    </tr>\n",
              "    <tr>\n",
              "      <th>92</th>\n",
              "      <td>East Side</td>\n",
              "      <td>1.961538</td>\n",
              "    </tr>\n",
              "    <tr>\n",
              "      <th>93</th>\n",
              "      <td>Riverdale</td>\n",
              "      <td>1.800000</td>\n",
              "    </tr>\n",
              "  </tbody>\n",
              "</table>\n",
              "<p>94 rows × 2 columns</p>\n",
              "</div>"
            ],
            "text/plain": [
              "   dropoff_location_name  average_trips\n",
              "0                   Loop   10727.466667\n",
              "1            River North    9523.666667\n",
              "2          Streeterville    6664.666667\n",
              "3              West Loop    5163.666667\n",
              "4                 O'Hare    2546.900000\n",
              "..                   ...            ...\n",
              "89       Mount Greenwood       3.137931\n",
              "90             Hegewisch       3.117647\n",
              "91              Burnside       2.333333\n",
              "92             East Side       1.961538\n",
              "93             Riverdale       1.800000\n",
              "\n",
              "[94 rows x 2 columns]"
            ]
          },
          "execution_count": 9,
          "metadata": {},
          "output_type": "execute_result"
        }
      ],
      "source": [
        "bairros"
      ]
    },
    {
      "cell_type": "code",
      "execution_count": null,
      "metadata": {
        "id": "dD70YWDWEQkh",
        "outputId": "66be7a67-ac9a-4bd7-f838-d7b954d8a1f5"
      },
      "outputs": [
        {
          "name": "stdout",
          "output_type": "stream",
          "text": [
            "<class 'pandas.core.frame.DataFrame'>\n",
            "RangeIndex: 94 entries, 0 to 93\n",
            "Data columns (total 2 columns):\n",
            " #   Column                 Non-Null Count  Dtype  \n",
            "---  ------                 --------------  -----  \n",
            " 0   dropoff_location_name  94 non-null     object \n",
            " 1   average_trips          94 non-null     float64\n",
            "dtypes: float64(1), object(1)\n",
            "memory usage: 1.6+ KB\n"
          ]
        }
      ],
      "source": [
        "bairros.info()"
      ]
    },
    {
      "cell_type": "code",
      "execution_count": null,
      "metadata": {
        "id": "U7PPsWNREQkh",
        "outputId": "d92c60a1-f0d5-4315-8c61-4bb1ec415a6d"
      },
      "outputs": [
        {
          "data": {
            "text/html": [
              "<div>\n",
              "<style scoped>\n",
              "    .dataframe tbody tr th:only-of-type {\n",
              "        vertical-align: middle;\n",
              "    }\n",
              "\n",
              "    .dataframe tbody tr th {\n",
              "        vertical-align: top;\n",
              "    }\n",
              "\n",
              "    .dataframe thead th {\n",
              "        text-align: right;\n",
              "    }\n",
              "</style>\n",
              "<table border=\"1\" class=\"dataframe\">\n",
              "  <thead>\n",
              "    <tr style=\"text-align: right;\">\n",
              "      <th></th>\n",
              "      <th>average_trips</th>\n",
              "    </tr>\n",
              "  </thead>\n",
              "  <tbody>\n",
              "    <tr>\n",
              "      <th>count</th>\n",
              "      <td>94.000000</td>\n",
              "    </tr>\n",
              "    <tr>\n",
              "      <th>mean</th>\n",
              "      <td>599.953728</td>\n",
              "    </tr>\n",
              "    <tr>\n",
              "      <th>std</th>\n",
              "      <td>1714.591098</td>\n",
              "    </tr>\n",
              "    <tr>\n",
              "      <th>min</th>\n",
              "      <td>1.800000</td>\n",
              "    </tr>\n",
              "    <tr>\n",
              "      <th>25%</th>\n",
              "      <td>14.266667</td>\n",
              "    </tr>\n",
              "    <tr>\n",
              "      <th>50%</th>\n",
              "      <td>52.016667</td>\n",
              "    </tr>\n",
              "    <tr>\n",
              "      <th>75%</th>\n",
              "      <td>298.858333</td>\n",
              "    </tr>\n",
              "    <tr>\n",
              "      <th>max</th>\n",
              "      <td>10727.466667</td>\n",
              "    </tr>\n",
              "  </tbody>\n",
              "</table>\n",
              "</div>"
            ],
            "text/plain": [
              "       average_trips\n",
              "count      94.000000\n",
              "mean      599.953728\n",
              "std      1714.591098\n",
              "min         1.800000\n",
              "25%        14.266667\n",
              "50%        52.016667\n",
              "75%       298.858333\n",
              "max     10727.466667"
            ]
          },
          "execution_count": 11,
          "metadata": {},
          "output_type": "execute_result"
        }
      ],
      "source": [
        "bairros.describe()"
      ]
    },
    {
      "cell_type": "code",
      "execution_count": null,
      "metadata": {
        "id": "iWBdvQlJEQki",
        "outputId": "e078d7d3-c026-41d4-88b7-217871c9c5cc"
      },
      "outputs": [
        {
          "data": {
            "text/plain": [
              "dropoff_location_name    0\n",
              "average_trips            0\n",
              "dtype: int64"
            ]
          },
          "execution_count": 12,
          "metadata": {},
          "output_type": "execute_result"
        }
      ],
      "source": [
        "# Verificando dados Faltantes\n",
        "bairros.isna().sum()"
      ]
    },
    {
      "cell_type": "code",
      "execution_count": null,
      "metadata": {
        "id": "3VMcSz4bEQki",
        "outputId": "a08aeee8-d24b-4cf0-c8a8-1479b343a449"
      },
      "outputs": [
        {
          "data": {
            "text/html": [
              "<div>\n",
              "<style scoped>\n",
              "    .dataframe tbody tr th:only-of-type {\n",
              "        vertical-align: middle;\n",
              "    }\n",
              "\n",
              "    .dataframe tbody tr th {\n",
              "        vertical-align: top;\n",
              "    }\n",
              "\n",
              "    .dataframe thead th {\n",
              "        text-align: right;\n",
              "    }\n",
              "</style>\n",
              "<table border=\"1\" class=\"dataframe\">\n",
              "  <thead>\n",
              "    <tr style=\"text-align: right;\">\n",
              "      <th></th>\n",
              "      <th>dropoff_location_name</th>\n",
              "      <th>average_trips</th>\n",
              "    </tr>\n",
              "  </thead>\n",
              "  <tbody>\n",
              "    <tr>\n",
              "      <th>0</th>\n",
              "      <td>Loop</td>\n",
              "      <td>10727.466667</td>\n",
              "    </tr>\n",
              "    <tr>\n",
              "      <th>1</th>\n",
              "      <td>River North</td>\n",
              "      <td>9523.666667</td>\n",
              "    </tr>\n",
              "    <tr>\n",
              "      <th>2</th>\n",
              "      <td>Streeterville</td>\n",
              "      <td>6664.666667</td>\n",
              "    </tr>\n",
              "    <tr>\n",
              "      <th>3</th>\n",
              "      <td>West Loop</td>\n",
              "      <td>5163.666667</td>\n",
              "    </tr>\n",
              "    <tr>\n",
              "      <th>4</th>\n",
              "      <td>O'Hare</td>\n",
              "      <td>2546.900000</td>\n",
              "    </tr>\n",
              "    <tr>\n",
              "      <th>...</th>\n",
              "      <td>...</td>\n",
              "      <td>...</td>\n",
              "    </tr>\n",
              "    <tr>\n",
              "      <th>89</th>\n",
              "      <td>Mount Greenwood</td>\n",
              "      <td>3.137931</td>\n",
              "    </tr>\n",
              "    <tr>\n",
              "      <th>90</th>\n",
              "      <td>Hegewisch</td>\n",
              "      <td>3.117647</td>\n",
              "    </tr>\n",
              "    <tr>\n",
              "      <th>91</th>\n",
              "      <td>Burnside</td>\n",
              "      <td>2.333333</td>\n",
              "    </tr>\n",
              "    <tr>\n",
              "      <th>92</th>\n",
              "      <td>East Side</td>\n",
              "      <td>1.961538</td>\n",
              "    </tr>\n",
              "    <tr>\n",
              "      <th>93</th>\n",
              "      <td>Riverdale</td>\n",
              "      <td>1.800000</td>\n",
              "    </tr>\n",
              "  </tbody>\n",
              "</table>\n",
              "<p>94 rows × 2 columns</p>\n",
              "</div>"
            ],
            "text/plain": [
              "   dropoff_location_name  average_trips\n",
              "0                   Loop   10727.466667\n",
              "1            River North    9523.666667\n",
              "2          Streeterville    6664.666667\n",
              "3              West Loop    5163.666667\n",
              "4                 O'Hare    2546.900000\n",
              "..                   ...            ...\n",
              "89       Mount Greenwood       3.137931\n",
              "90             Hegewisch       3.117647\n",
              "91              Burnside       2.333333\n",
              "92             East Side       1.961538\n",
              "93             Riverdale       1.800000\n",
              "\n",
              "[94 rows x 2 columns]"
            ]
          },
          "execution_count": 13,
          "metadata": {},
          "output_type": "execute_result"
        }
      ],
      "source": [
        "bairros.duplicated()"
      ]
    },
    {
      "cell_type": "markdown",
      "metadata": {
        "id": "W252c32SEQki"
      },
      "source": [
        "* DF sem dados faltante ou duplicados"
      ]
    },
    {
      "cell_type": "code",
      "execution_count": null,
      "metadata": {
        "id": "6NxK37_EEQki",
        "outputId": "46a9de98-7615-483e-ac2f-3d98958b1c57"
      },
      "outputs": [
        {
          "data": {
            "text/html": [
              "<div>\n",
              "<style scoped>\n",
              "    .dataframe tbody tr th:only-of-type {\n",
              "        vertical-align: middle;\n",
              "    }\n",
              "\n",
              "    .dataframe tbody tr th {\n",
              "        vertical-align: top;\n",
              "    }\n",
              "\n",
              "    .dataframe thead th {\n",
              "        text-align: right;\n",
              "    }\n",
              "</style>\n",
              "<table border=\"1\" class=\"dataframe\">\n",
              "  <thead>\n",
              "    <tr style=\"text-align: right;\">\n",
              "      <th></th>\n",
              "      <th>dropoff_location_name</th>\n",
              "      <th>average_trips</th>\n",
              "    </tr>\n",
              "  </thead>\n",
              "  <tbody>\n",
              "    <tr>\n",
              "      <th>0</th>\n",
              "      <td>Loop</td>\n",
              "      <td>10727.466667</td>\n",
              "    </tr>\n",
              "    <tr>\n",
              "      <th>1</th>\n",
              "      <td>River North</td>\n",
              "      <td>9523.666667</td>\n",
              "    </tr>\n",
              "    <tr>\n",
              "      <th>2</th>\n",
              "      <td>Streeterville</td>\n",
              "      <td>6664.666667</td>\n",
              "    </tr>\n",
              "    <tr>\n",
              "      <th>3</th>\n",
              "      <td>West Loop</td>\n",
              "      <td>5163.666667</td>\n",
              "    </tr>\n",
              "    <tr>\n",
              "      <th>4</th>\n",
              "      <td>O'Hare</td>\n",
              "      <td>2546.900000</td>\n",
              "    </tr>\n",
              "    <tr>\n",
              "      <th>5</th>\n",
              "      <td>Lake View</td>\n",
              "      <td>2420.966667</td>\n",
              "    </tr>\n",
              "    <tr>\n",
              "      <th>6</th>\n",
              "      <td>Grant Park</td>\n",
              "      <td>2068.533333</td>\n",
              "    </tr>\n",
              "    <tr>\n",
              "      <th>7</th>\n",
              "      <td>Museum Campus</td>\n",
              "      <td>1510.000000</td>\n",
              "    </tr>\n",
              "    <tr>\n",
              "      <th>8</th>\n",
              "      <td>Gold Coast</td>\n",
              "      <td>1364.233333</td>\n",
              "    </tr>\n",
              "    <tr>\n",
              "      <th>9</th>\n",
              "      <td>Sheffield &amp; DePaul</td>\n",
              "      <td>1259.766667</td>\n",
              "    </tr>\n",
              "    <tr>\n",
              "      <th>10</th>\n",
              "      <td>Lincoln Park</td>\n",
              "      <td>1246.533333</td>\n",
              "    </tr>\n",
              "  </tbody>\n",
              "</table>\n",
              "</div>"
            ],
            "text/plain": [
              "   dropoff_location_name  average_trips\n",
              "0                   Loop   10727.466667\n",
              "1            River North    9523.666667\n",
              "2          Streeterville    6664.666667\n",
              "3              West Loop    5163.666667\n",
              "4                 O'Hare    2546.900000\n",
              "5              Lake View    2420.966667\n",
              "6             Grant Park    2068.533333\n",
              "7          Museum Campus    1510.000000\n",
              "8             Gold Coast    1364.233333\n",
              "9     Sheffield & DePaul    1259.766667\n",
              "10          Lincoln Park    1246.533333"
            ]
          },
          "execution_count": 14,
          "metadata": {},
          "output_type": "execute_result"
        }
      ],
      "source": [
        "bairros = bairros.sort_values(by='average_trips', ascending=False)\n",
        "bairros[:11]"
      ]
    },
    {
      "cell_type": "code",
      "execution_count": null,
      "metadata": {
        "id": "A_cwR0ByEQki",
        "outputId": "60772f6f-15d8-4652-d1a7-e6da5f777717"
      },
      "outputs": [
        {
          "data": {
            "text/plain": [
              "<AxesSubplot:xlabel='average_trips', ylabel='dropoff_location_name'>"
            ]
          },
          "execution_count": 15,
          "metadata": {},
          "output_type": "execute_result"
        },
        {
          "data": {
            "image/png": "[encoded data removed]",
            "text/plain": [
              "<Figure size 864x864 with 1 Axes>"
            ]
          },
          "metadata": {
            "needs_background": "light"
          },
          "output_type": "display_data"
        }
      ],
      "source": [
        "# Plotando gráfico da quantidade média de viagens por bairro\n",
        "f, ax = plt.subplots(figsize=(12, 12), sharex=True)\n",
        "sns.barplot(data=bairros[:11], x='average_trips',y='dropoff_location_name', orient = 'h', ax = ax)"
      ]
    },
    {
      "cell_type": "markdown",
      "metadata": {
        "id": "RdMGYPerEQki"
      },
      "source": [
        "* É visível que os 4 primeiros bairros concentram as maiores médias de viagem no período analisado\n",
        "* A partir do 5º bairro os números começam a cair mais de 50%, mostrando que o top 4 são os destinos mais procurados"
      ]
    },
    {
      "cell_type": "markdown",
      "metadata": {
        "id": "LuepE1MrEQkj"
      },
      "source": [
        "# DF Viagens"
      ]
    },
    {
      "cell_type": "code",
      "execution_count": null,
      "metadata": {
        "id": "I6xzVknPEQkj",
        "outputId": "22824b5b-380e-4af1-a0fd-672dc2f4e06e"
      },
      "outputs": [
        {
          "data": {
            "text/html": [
              "<div>\n",
              "<style scoped>\n",
              "    .dataframe tbody tr th:only-of-type {\n",
              "        vertical-align: middle;\n",
              "    }\n",
              "\n",
              "    .dataframe tbody tr th {\n",
              "        vertical-align: top;\n",
              "    }\n",
              "\n",
              "    .dataframe thead th {\n",
              "        text-align: right;\n",
              "    }\n",
              "</style>\n",
              "<table border=\"1\" class=\"dataframe\">\n",
              "  <thead>\n",
              "    <tr style=\"text-align: right;\">\n",
              "      <th></th>\n",
              "      <th>start_ts</th>\n",
              "      <th>weather_conditions</th>\n",
              "      <th>duration_seconds</th>\n",
              "    </tr>\n",
              "  </thead>\n",
              "  <tbody>\n",
              "    <tr>\n",
              "      <th>0</th>\n",
              "      <td>2017-11-25 16:00:00</td>\n",
              "      <td>Good</td>\n",
              "      <td>2410.0</td>\n",
              "    </tr>\n",
              "    <tr>\n",
              "      <th>1</th>\n",
              "      <td>2017-11-25 14:00:00</td>\n",
              "      <td>Good</td>\n",
              "      <td>1920.0</td>\n",
              "    </tr>\n",
              "    <tr>\n",
              "      <th>2</th>\n",
              "      <td>2017-11-25 12:00:00</td>\n",
              "      <td>Good</td>\n",
              "      <td>1543.0</td>\n",
              "    </tr>\n",
              "    <tr>\n",
              "      <th>3</th>\n",
              "      <td>2017-11-04 10:00:00</td>\n",
              "      <td>Good</td>\n",
              "      <td>2512.0</td>\n",
              "    </tr>\n",
              "    <tr>\n",
              "      <th>4</th>\n",
              "      <td>2017-11-11 07:00:00</td>\n",
              "      <td>Good</td>\n",
              "      <td>1440.0</td>\n",
              "    </tr>\n",
              "    <tr>\n",
              "      <th>...</th>\n",
              "      <td>...</td>\n",
              "      <td>...</td>\n",
              "      <td>...</td>\n",
              "    </tr>\n",
              "    <tr>\n",
              "      <th>1063</th>\n",
              "      <td>2017-11-25 11:00:00</td>\n",
              "      <td>Good</td>\n",
              "      <td>0.0</td>\n",
              "    </tr>\n",
              "    <tr>\n",
              "      <th>1064</th>\n",
              "      <td>2017-11-11 10:00:00</td>\n",
              "      <td>Good</td>\n",
              "      <td>1318.0</td>\n",
              "    </tr>\n",
              "    <tr>\n",
              "      <th>1065</th>\n",
              "      <td>2017-11-11 13:00:00</td>\n",
              "      <td>Good</td>\n",
              "      <td>2100.0</td>\n",
              "    </tr>\n",
              "    <tr>\n",
              "      <th>1066</th>\n",
              "      <td>2017-11-11 08:00:00</td>\n",
              "      <td>Good</td>\n",
              "      <td>1380.0</td>\n",
              "    </tr>\n",
              "    <tr>\n",
              "      <th>1067</th>\n",
              "      <td>2017-11-04 16:00:00</td>\n",
              "      <td>Bad</td>\n",
              "      <td>2834.0</td>\n",
              "    </tr>\n",
              "  </tbody>\n",
              "</table>\n",
              "<p>1068 rows × 3 columns</p>\n",
              "</div>"
            ],
            "text/plain": [
              "                 start_ts weather_conditions  duration_seconds\n",
              "0     2017-11-25 16:00:00               Good            2410.0\n",
              "1     2017-11-25 14:00:00               Good            1920.0\n",
              "2     2017-11-25 12:00:00               Good            1543.0\n",
              "3     2017-11-04 10:00:00               Good            2512.0\n",
              "4     2017-11-11 07:00:00               Good            1440.0\n",
              "...                   ...                ...               ...\n",
              "1063  2017-11-25 11:00:00               Good               0.0\n",
              "1064  2017-11-11 10:00:00               Good            1318.0\n",
              "1065  2017-11-11 13:00:00               Good            2100.0\n",
              "1066  2017-11-11 08:00:00               Good            1380.0\n",
              "1067  2017-11-04 16:00:00                Bad            2834.0\n",
              "\n",
              "[1068 rows x 3 columns]"
            ]
          },
          "execution_count": 16,
          "metadata": {},
          "output_type": "execute_result"
        }
      ],
      "source": [
        "viagens = pd.read_csv('/datasets/project_sql_result_07.csv')\n",
        "viagens"
      ]
    },
    {
      "cell_type": "code",
      "execution_count": null,
      "metadata": {
        "id": "utrJ-DisEQkj"
      },
      "outputs": [],
      "source": [
        "# Transformando a coluna para tipo datetime\n",
        "viagens['start_ts'] = pd.to_datetime(viagens['start_ts'], format='%Y-%m-%d %H:%M:%S')"
      ]
    },
    {
      "cell_type": "code",
      "execution_count": null,
      "metadata": {
        "id": "I21LyKf_EQkj",
        "outputId": "4f24e745-9a5e-4630-876a-d5f3e786a7ec"
      },
      "outputs": [
        {
          "data": {
            "text/html": [
              "<div>\n",
              "<style scoped>\n",
              "    .dataframe tbody tr th:only-of-type {\n",
              "        vertical-align: middle;\n",
              "    }\n",
              "\n",
              "    .dataframe tbody tr th {\n",
              "        vertical-align: top;\n",
              "    }\n",
              "\n",
              "    .dataframe thead th {\n",
              "        text-align: right;\n",
              "    }\n",
              "</style>\n",
              "<table border=\"1\" class=\"dataframe\">\n",
              "  <thead>\n",
              "    <tr style=\"text-align: right;\">\n",
              "      <th></th>\n",
              "      <th>start_ts</th>\n",
              "      <th>weather_conditions</th>\n",
              "      <th>duration_seconds</th>\n",
              "      <th>weekday</th>\n",
              "    </tr>\n",
              "  </thead>\n",
              "  <tbody>\n",
              "    <tr>\n",
              "      <th>0</th>\n",
              "      <td>2017-11-25 16:00:00</td>\n",
              "      <td>Good</td>\n",
              "      <td>2410.0</td>\n",
              "      <td>5</td>\n",
              "    </tr>\n",
              "    <tr>\n",
              "      <th>1</th>\n",
              "      <td>2017-11-25 14:00:00</td>\n",
              "      <td>Good</td>\n",
              "      <td>1920.0</td>\n",
              "      <td>5</td>\n",
              "    </tr>\n",
              "    <tr>\n",
              "      <th>2</th>\n",
              "      <td>2017-11-25 12:00:00</td>\n",
              "      <td>Good</td>\n",
              "      <td>1543.0</td>\n",
              "      <td>5</td>\n",
              "    </tr>\n",
              "    <tr>\n",
              "      <th>3</th>\n",
              "      <td>2017-11-04 10:00:00</td>\n",
              "      <td>Good</td>\n",
              "      <td>2512.0</td>\n",
              "      <td>5</td>\n",
              "    </tr>\n",
              "    <tr>\n",
              "      <th>4</th>\n",
              "      <td>2017-11-11 07:00:00</td>\n",
              "      <td>Good</td>\n",
              "      <td>1440.0</td>\n",
              "      <td>5</td>\n",
              "    </tr>\n",
              "    <tr>\n",
              "      <th>...</th>\n",
              "      <td>...</td>\n",
              "      <td>...</td>\n",
              "      <td>...</td>\n",
              "      <td>...</td>\n",
              "    </tr>\n",
              "    <tr>\n",
              "      <th>1063</th>\n",
              "      <td>2017-11-25 11:00:00</td>\n",
              "      <td>Good</td>\n",
              "      <td>0.0</td>\n",
              "      <td>5</td>\n",
              "    </tr>\n",
              "    <tr>\n",
              "      <th>1064</th>\n",
              "      <td>2017-11-11 10:00:00</td>\n",
              "      <td>Good</td>\n",
              "      <td>1318.0</td>\n",
              "      <td>5</td>\n",
              "    </tr>\n",
              "    <tr>\n",
              "      <th>1065</th>\n",
              "      <td>2017-11-11 13:00:00</td>\n",
              "      <td>Good</td>\n",
              "      <td>2100.0</td>\n",
              "      <td>5</td>\n",
              "    </tr>\n",
              "    <tr>\n",
              "      <th>1066</th>\n",
              "      <td>2017-11-11 08:00:00</td>\n",
              "      <td>Good</td>\n",
              "      <td>1380.0</td>\n",
              "      <td>5</td>\n",
              "    </tr>\n",
              "    <tr>\n",
              "      <th>1067</th>\n",
              "      <td>2017-11-04 16:00:00</td>\n",
              "      <td>Bad</td>\n",
              "      <td>2834.0</td>\n",
              "      <td>5</td>\n",
              "    </tr>\n",
              "  </tbody>\n",
              "</table>\n",
              "<p>1068 rows × 4 columns</p>\n",
              "</div>"
            ],
            "text/plain": [
              "                start_ts weather_conditions  duration_seconds  weekday\n",
              "0    2017-11-25 16:00:00               Good            2410.0        5\n",
              "1    2017-11-25 14:00:00               Good            1920.0        5\n",
              "2    2017-11-25 12:00:00               Good            1543.0        5\n",
              "3    2017-11-04 10:00:00               Good            2512.0        5\n",
              "4    2017-11-11 07:00:00               Good            1440.0        5\n",
              "...                  ...                ...               ...      ...\n",
              "1063 2017-11-25 11:00:00               Good               0.0        5\n",
              "1064 2017-11-11 10:00:00               Good            1318.0        5\n",
              "1065 2017-11-11 13:00:00               Good            2100.0        5\n",
              "1066 2017-11-11 08:00:00               Good            1380.0        5\n",
              "1067 2017-11-04 16:00:00                Bad            2834.0        5\n",
              "\n",
              "[1068 rows x 4 columns]"
            ]
          },
          "execution_count": 18,
          "metadata": {},
          "output_type": "execute_result"
        }
      ],
      "source": [
        "# Criando uma coluna com o dia da semana correspondente à data\n",
        "viagens['weekday'] = viagens['start_ts'].dt.weekday\n",
        "viagens"
      ]
    },
    {
      "cell_type": "code",
      "execution_count": null,
      "metadata": {
        "id": "bcAM6CftEQkk",
        "outputId": "9a2f84a4-17f6-4562-eb5b-8206cc9fddb6"
      },
      "outputs": [
        {
          "data": {
            "text/html": [
              "<div>\n",
              "<style scoped>\n",
              "    .dataframe tbody tr th:only-of-type {\n",
              "        vertical-align: middle;\n",
              "    }\n",
              "\n",
              "    .dataframe tbody tr th {\n",
              "        vertical-align: top;\n",
              "    }\n",
              "\n",
              "    .dataframe thead th {\n",
              "        text-align: right;\n",
              "    }\n",
              "</style>\n",
              "<table border=\"1\" class=\"dataframe\">\n",
              "  <thead>\n",
              "    <tr style=\"text-align: right;\">\n",
              "      <th></th>\n",
              "      <th>start_ts</th>\n",
              "      <th>weather_conditions</th>\n",
              "      <th>duration_seconds</th>\n",
              "      <th>weekday</th>\n",
              "    </tr>\n",
              "  </thead>\n",
              "  <tbody>\n",
              "    <tr>\n",
              "      <th>0</th>\n",
              "      <td>2017-11-25 16:00:00</td>\n",
              "      <td>Good</td>\n",
              "      <td>2410.0</td>\n",
              "      <td>5</td>\n",
              "    </tr>\n",
              "    <tr>\n",
              "      <th>1</th>\n",
              "      <td>2017-11-25 14:00:00</td>\n",
              "      <td>Good</td>\n",
              "      <td>1920.0</td>\n",
              "      <td>5</td>\n",
              "    </tr>\n",
              "    <tr>\n",
              "      <th>2</th>\n",
              "      <td>2017-11-25 12:00:00</td>\n",
              "      <td>Good</td>\n",
              "      <td>1543.0</td>\n",
              "      <td>5</td>\n",
              "    </tr>\n",
              "    <tr>\n",
              "      <th>3</th>\n",
              "      <td>2017-11-04 10:00:00</td>\n",
              "      <td>Good</td>\n",
              "      <td>2512.0</td>\n",
              "      <td>5</td>\n",
              "    </tr>\n",
              "    <tr>\n",
              "      <th>4</th>\n",
              "      <td>2017-11-11 07:00:00</td>\n",
              "      <td>Good</td>\n",
              "      <td>1440.0</td>\n",
              "      <td>5</td>\n",
              "    </tr>\n",
              "    <tr>\n",
              "      <th>...</th>\n",
              "      <td>...</td>\n",
              "      <td>...</td>\n",
              "      <td>...</td>\n",
              "      <td>...</td>\n",
              "    </tr>\n",
              "    <tr>\n",
              "      <th>1062</th>\n",
              "      <td>2017-11-11 06:00:00</td>\n",
              "      <td>Good</td>\n",
              "      <td>1500.0</td>\n",
              "      <td>5</td>\n",
              "    </tr>\n",
              "    <tr>\n",
              "      <th>1063</th>\n",
              "      <td>2017-11-25 11:00:00</td>\n",
              "      <td>Good</td>\n",
              "      <td>0.0</td>\n",
              "      <td>5</td>\n",
              "    </tr>\n",
              "    <tr>\n",
              "      <th>1064</th>\n",
              "      <td>2017-11-11 10:00:00</td>\n",
              "      <td>Good</td>\n",
              "      <td>1318.0</td>\n",
              "      <td>5</td>\n",
              "    </tr>\n",
              "    <tr>\n",
              "      <th>1065</th>\n",
              "      <td>2017-11-11 13:00:00</td>\n",
              "      <td>Good</td>\n",
              "      <td>2100.0</td>\n",
              "      <td>5</td>\n",
              "    </tr>\n",
              "    <tr>\n",
              "      <th>1066</th>\n",
              "      <td>2017-11-11 08:00:00</td>\n",
              "      <td>Good</td>\n",
              "      <td>1380.0</td>\n",
              "      <td>5</td>\n",
              "    </tr>\n",
              "  </tbody>\n",
              "</table>\n",
              "<p>888 rows × 4 columns</p>\n",
              "</div>"
            ],
            "text/plain": [
              "                start_ts weather_conditions  duration_seconds  weekday\n",
              "0    2017-11-25 16:00:00               Good            2410.0        5\n",
              "1    2017-11-25 14:00:00               Good            1920.0        5\n",
              "2    2017-11-25 12:00:00               Good            1543.0        5\n",
              "3    2017-11-04 10:00:00               Good            2512.0        5\n",
              "4    2017-11-11 07:00:00               Good            1440.0        5\n",
              "...                  ...                ...               ...      ...\n",
              "1062 2017-11-11 06:00:00               Good            1500.0        5\n",
              "1063 2017-11-25 11:00:00               Good               0.0        5\n",
              "1064 2017-11-11 10:00:00               Good            1318.0        5\n",
              "1065 2017-11-11 13:00:00               Good            2100.0        5\n",
              "1066 2017-11-11 08:00:00               Good            1380.0        5\n",
              "\n",
              "[888 rows x 4 columns]"
            ]
          },
          "execution_count": 19,
          "metadata": {},
          "output_type": "execute_result"
        }
      ],
      "source": [
        "viagens_good = viagens.query('weather_conditions == \"Good\"')\n",
        "viagens_good"
      ]
    },
    {
      "cell_type": "code",
      "execution_count": null,
      "metadata": {
        "id": "2SXoi5JWEQkk",
        "outputId": "8bb0ce62-10bb-4ff9-c481-fd915d2bdec4"
      },
      "outputs": [
        {
          "data": {
            "text/html": [
              "<div>\n",
              "<style scoped>\n",
              "    .dataframe tbody tr th:only-of-type {\n",
              "        vertical-align: middle;\n",
              "    }\n",
              "\n",
              "    .dataframe tbody tr th {\n",
              "        vertical-align: top;\n",
              "    }\n",
              "\n",
              "    .dataframe thead th {\n",
              "        text-align: right;\n",
              "    }\n",
              "</style>\n",
              "<table border=\"1\" class=\"dataframe\">\n",
              "  <thead>\n",
              "    <tr style=\"text-align: right;\">\n",
              "      <th></th>\n",
              "      <th>start_ts</th>\n",
              "      <th>weather_conditions</th>\n",
              "      <th>duration_seconds</th>\n",
              "      <th>weekday</th>\n",
              "    </tr>\n",
              "  </thead>\n",
              "  <tbody>\n",
              "    <tr>\n",
              "      <th>6</th>\n",
              "      <td>2017-11-04 16:00:00</td>\n",
              "      <td>Bad</td>\n",
              "      <td>2969.0</td>\n",
              "      <td>5</td>\n",
              "    </tr>\n",
              "    <tr>\n",
              "      <th>30</th>\n",
              "      <td>2017-11-18 12:00:00</td>\n",
              "      <td>Bad</td>\n",
              "      <td>1980.0</td>\n",
              "      <td>5</td>\n",
              "    </tr>\n",
              "    <tr>\n",
              "      <th>34</th>\n",
              "      <td>2017-11-04 17:00:00</td>\n",
              "      <td>Bad</td>\n",
              "      <td>2460.0</td>\n",
              "      <td>5</td>\n",
              "    </tr>\n",
              "    <tr>\n",
              "      <th>51</th>\n",
              "      <td>2017-11-04 16:00:00</td>\n",
              "      <td>Bad</td>\n",
              "      <td>2760.0</td>\n",
              "      <td>5</td>\n",
              "    </tr>\n",
              "    <tr>\n",
              "      <th>52</th>\n",
              "      <td>2017-11-18 12:00:00</td>\n",
              "      <td>Bad</td>\n",
              "      <td>2460.0</td>\n",
              "      <td>5</td>\n",
              "    </tr>\n",
              "    <tr>\n",
              "      <th>...</th>\n",
              "      <td>...</td>\n",
              "      <td>...</td>\n",
              "      <td>...</td>\n",
              "      <td>...</td>\n",
              "    </tr>\n",
              "    <tr>\n",
              "      <th>1031</th>\n",
              "      <td>2017-11-18 12:00:00</td>\n",
              "      <td>Bad</td>\n",
              "      <td>2560.0</td>\n",
              "      <td>5</td>\n",
              "    </tr>\n",
              "    <tr>\n",
              "      <th>1032</th>\n",
              "      <td>2017-11-18 10:00:00</td>\n",
              "      <td>Bad</td>\n",
              "      <td>1908.0</td>\n",
              "      <td>5</td>\n",
              "    </tr>\n",
              "    <tr>\n",
              "      <th>1053</th>\n",
              "      <td>2017-11-18 12:00:00</td>\n",
              "      <td>Bad</td>\n",
              "      <td>2400.0</td>\n",
              "      <td>5</td>\n",
              "    </tr>\n",
              "    <tr>\n",
              "      <th>1061</th>\n",
              "      <td>2017-11-18 16:00:00</td>\n",
              "      <td>Bad</td>\n",
              "      <td>2186.0</td>\n",
              "      <td>5</td>\n",
              "    </tr>\n",
              "    <tr>\n",
              "      <th>1067</th>\n",
              "      <td>2017-11-04 16:00:00</td>\n",
              "      <td>Bad</td>\n",
              "      <td>2834.0</td>\n",
              "      <td>5</td>\n",
              "    </tr>\n",
              "  </tbody>\n",
              "</table>\n",
              "<p>180 rows × 4 columns</p>\n",
              "</div>"
            ],
            "text/plain": [
              "                start_ts weather_conditions  duration_seconds  weekday\n",
              "6    2017-11-04 16:00:00                Bad            2969.0        5\n",
              "30   2017-11-18 12:00:00                Bad            1980.0        5\n",
              "34   2017-11-04 17:00:00                Bad            2460.0        5\n",
              "51   2017-11-04 16:00:00                Bad            2760.0        5\n",
              "52   2017-11-18 12:00:00                Bad            2460.0        5\n",
              "...                  ...                ...               ...      ...\n",
              "1031 2017-11-18 12:00:00                Bad            2560.0        5\n",
              "1032 2017-11-18 10:00:00                Bad            1908.0        5\n",
              "1053 2017-11-18 12:00:00                Bad            2400.0        5\n",
              "1061 2017-11-18 16:00:00                Bad            2186.0        5\n",
              "1067 2017-11-04 16:00:00                Bad            2834.0        5\n",
              "\n",
              "[180 rows x 4 columns]"
            ]
          },
          "execution_count": 20,
          "metadata": {},
          "output_type": "execute_result"
        }
      ],
      "source": [
        "viagens_bad = viagens.query('weather_conditions == \"Bad\"')\n",
        "viagens_bad"
      ]
    },
    {
      "cell_type": "markdown",
      "metadata": {
        "id": "MZGTMDFmEQkk"
      },
      "source": [
        "## Testando hipótese"
      ]
    },
    {
      "cell_type": "markdown",
      "metadata": {
        "id": "ytW61JLGEQkk"
      },
      "source": [
        "### Hipótese nula: A duração média dos passeios do Loop para o Aeroporto Internacional O'Hare é igual em sábados com tempo bom e ruim"
      ]
    },
    {
      "cell_type": "markdown",
      "metadata": {
        "id": "Gp5gML53EQkk"
      },
      "source": [
        "### Hipótese Alternativa: A duração média dos passeios do Loop para o Aeroporto Internacional é diferente em sábado com tempo ruim."
      ]
    },
    {
      "cell_type": "code",
      "execution_count": null,
      "metadata": {
        "id": "-w3svjqAEQkk",
        "outputId": "e408ce5c-07ce-4ab8-a258-32aad8da062b"
      },
      "outputs": [
        {
          "name": "stdout",
          "output_type": "stream",
          "text": [
            "p-value:  6.517970327099473e-12\n",
            "Rejeitamos a hipótese nula\n"
          ]
        }
      ],
      "source": [
        "alpha = 0.05\n",
        "\n",
        "results = st.ttest_ind(viagens_good['duration_seconds'], viagens_bad['duration_seconds'])\n",
        "\n",
        "print('p-value: ', results.pvalue)\n",
        "\n",
        "if results.pvalue < alpha:\n",
        "    print(\"Rejeitamos a hipótese nula\")\n",
        "else:\n",
        "    print(\"Nós não podemos rejeitar a hipótese nula\")"
      ]
    },
    {
      "cell_type": "markdown",
      "metadata": {
        "id": "b1gFDrgrEQkl"
      },
      "source": [
        "Podemos rejeitar a hipótese nula, ou seja, podemos rejeitar que o tempo médio da viagem nos sábados independem se a condição do tempo é boa ou ruim."
      ]
    },
    {
      "cell_type": "markdown",
      "metadata": {
        "id": "pXrt-rZ3EQkl"
      },
      "source": [
        "Para testar esta hipótese utilizei o método de Igualdade entre as médias de duas populações, principalmente devido ao fato da diferença de tamanho entre os conjuntos de dados, caso estivessem iguais, teria utilizado o dados da mesma população onde a diferenã entre elas seriam a condição de tempo."
      ]
    }
  ],
  "metadata": {
    "kernelspec": {
      "display_name": "Python 3 (ipykernel)",
      "language": "python",
      "name": "python3"
    },
    "language_info": {
      "codemirror_mode": {
        "name": "ipython",
        "version": 3
      },
      "file_extension": ".py",
      "mimetype": "text/x-python",
      "name": "python",
      "nbconvert_exporter": "python",
      "pygments_lexer": "ipython3",
      "version": "3.9.5"
    },
    "toc": {
      "base_numbering": 1,
      "nav_menu": {},
      "number_sections": true,
      "sideBar": true,
      "skip_h1_title": true,
      "title_cell": "Table of Contents",
      "title_sidebar": "Contents",
      "toc_cell": false,
      "toc_position": {},
      "toc_section_display": true,
      "toc_window_display": false
    },
    "colab": {
      "provenance": []
    }
  },
  "nbformat": 4,
  "nbformat_minor": 0
}